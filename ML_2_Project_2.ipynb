{
 "cells": [
  {
   "cell_type": "markdown",
   "source": [
    "# <u>Submission instructions</u>\n",
    "### Submission in pairs unless otherwise authorized\n",
    "<ul style=\"font-size: 17px\">\n",
    "<li> This notebook contains all the questions. You should follow the instructions below.</li>\n",
    "<li> Solutions for both theoretical and practical parts should be written in this notebook</li>\n",
    "</ul>\n",
    "\n",
    "<h3> Moodle submission</h3>\n",
    "\n",
    "\n",
    "<p style=\"font-size: 17px\">\n",
    "You should submit three files:\n",
    "</p>\n",
    "<ul style=\"font-size: 17px\">\n",
    "<li>IPYNB notebook:\n",
    "  <ul>\n",
    "  <li>All the wet and dry parts, including code, graphs, discussion, etc.</li>\n",
    "  </ul>\n",
    "</li>\n",
    "<li>PDF file:\n",
    "  <ul>\n",
    "  <li>Export the notebook to PDF. Make sure that all the cells are visible.</li>\n",
    "  </ul>\n",
    "</li>\n",
    "</ul>\n",
    "<p style=\"font-size: 17px\">\n",
    "All files should be in the following format: \"HW2_ID1_ID2.file\"\n",
    "<br>\n",
    "Good Luck!\n",
    "</p>"
   ],
   "attachments": {},
   "metadata": {
    "datalore": {
     "node_id": "yRxF3fGk83TKVLrMatsfF6",
     "type": "MD",
     "hide_input_from_viewers": true,
     "hide_output_from_viewers": true
    },
    "pycharm": {
     "name": "#%% md\n"
    }
   }
  },
  {
   "cell_type": "markdown",
   "source": [
    "# Question 1 - Generalizrtion and Overfit (30 pt)"
   ],
   "attachments": {},
   "metadata": {
    "datalore": {
     "node_id": "6xzUJDnGaEAHujTj6qflUn",
     "type": "MD",
     "hide_input_from_viewers": true,
     "hide_output_from_viewers": true
    },
    "pycharm": {
     "name": "#%% md\n"
    }
   }
  },
  {
   "cell_type": "markdown",
   "source": [
    "<p style=\"font-size: 17px\"> In this exercise, we will demonstrate overfitting to random labels.The settings are the following:\n",
    "<ul style=\"font-size: 17px\">\n",
    "<li> Use the MNIST dataset.\n",
    "<li> Work on the first 128 samples from the training dataset.\n",
    "<li> Fix the following parameters:\n",
    "    <ul>\n",
    "        <li> Shuffle to False.\n",
    "        <li> Batch size to 128.\n",
    "    </ul>\n",
    "<li> Generate random labels from Bernoulli distribution with a probability of $\\frac{1}{2}$. I.e.,each sample is assigned a random label which is zero or one.\n",
    "</ul>\n",
    "\n",
    "<p style=\"font-size: 17px\">\n",
    "Show that by using a Fully Connected netwrok and cross-entropy loss, you are able to achieve a loss value of ~0 (the lower the better).\n",
    "Plot the accuracy and loss convergence for this data and the test data as a function of epochs.\n",
    "What is the accuracy value of the test data? Explain\n",
    "</p>"
   ],
   "attachments": {},
   "metadata": {
    "datalore": {
     "node_id": "zEM8X7YZrr3g1oxEhxBe4G",
     "type": "MD",
     "hide_input_from_viewers": true,
     "hide_output_from_viewers": true
    },
    "pycharm": {
     "name": "#%% md\n"
    }
   }
  },
  {
   "cell_type": "markdown",
   "source": [],
   "attachments": {},
   "metadata": {
    "datalore": {
     "node_id": "zF2jqRtjLtATXsRYnX1mDb",
     "type": "MD",
     "hide_input_from_viewers": true,
     "hide_output_from_viewers": true
    },
    "pycharm": {
     "name": "#%% md\n"
    }
   }
  },
  {
   "cell_type": "markdown",
   "source": [
    "********************"
   ],
   "attachments": {},
   "metadata": {
    "datalore": {
     "node_id": "sLpu4mV3CfDdBPts3GiBa3",
     "type": "MD",
     "hide_input_from_viewers": true,
     "hide_output_from_viewers": true
    },
    "pycharm": {
     "name": "#%% md\n"
    }
   }
  },
  {
   "cell_type": "markdown",
   "source": [
    "<h1> Question 2 - Sentiment Analysis - Classification (70 pt)</h1>"
   ],
   "attachments": {},
   "metadata": {
    "datalore": {
     "node_id": "gr6R5J0GZ8W4yhRCXw3nDz",
     "type": "MD",
     "hide_input_from_viewers": true,
     "hide_output_from_viewers": true
    },
    "pycharm": {
     "name": "#%% md\n"
    }
   }
  },
  {
   "cell_type": "markdown",
   "source": [
    "### Exercise\n",
    "<p style=\"font-size: 17px\">\n",
    "The goal of this exercise is to get familiar with recurrent neural networks. \n",
    "<br><br>\n",
    "The field of detecting which emotion is represented in a text is developing and being\n",
    "studied due to its usefulness. For example, detecting if a review is positive or\n",
    "negative and more.\n",
    "<br><br>\n",
    "In this exercise, you will detect the emotion of a sentence. You should get at least 47% accuracy on the test set.\n",
    "<br><br>\n",
    "You should\n",
    "<ul style=\"font-size: 17px\">\n",
    "  <li> Try different model architectures - Vanilla RNN and Gated model (GRU/LSTM)</li>\n",
    "  <li> Use different optimization and regularization methods </li>\n",
    "  <li> Try different combinations of hyperparamters</li>\n",
    "</ul>\n",
    "</p>\n",
    "\n",
    "<br>\n",
    "\n",
    "### Data\n",
    "\n",
    "<p style=\"font-size: 17px\">\n",
    "The data is a csv file containing tweets and their labels according to the emotion –\n",
    "{happiness, sadness, neutral}. Every row in the file (except for the header) is an\n",
    "example. \n",
    "<br>\n",
    "Examples: (Notepad++ view)\n",
    "<ul style=\"font-size: 17px\">\n",
    "  <li> happiness,Welcome @doeko ! Really glad to know you here. Your products rox man</li>\n",
    "  <li> sadness,Disappointment really sucks! I'm getting used to it.</li>\n",
    "  <li> neutral,I just want to Sleep.</li>\n",
    "</ul>\n",
    "<p style=\"font-size: 17px\">\n",
    "You have a train file – \"trainEmotions.csv\" and a test file – \"testEmotions.csv\". Both files can be found in the \"HW2_data.zip\" file.\n",
    "</p>"
   ],
   "attachments": {},
   "metadata": {
    "datalore": {
     "node_id": "OIk1yvlBuHpRJmBX5LoPsN",
     "type": "MD",
     "hide_input_from_viewers": true,
     "hide_output_from_viewers": true
    },
    "pycharm": {
     "name": "#%% md\n"
    }
   }
  },
  {
   "cell_type": "markdown",
   "source": [
    "### a) EDA (10 pt)\n",
    "\n",
    "<p style=\"font-size: 17px\">\n",
    "Explore and analyze your data. Explain your data cleaning and processing pipeline.\n",
    "</p>"
   ],
   "attachments": {},
   "metadata": {
    "datalore": {
     "node_id": "hKBj0FpqDeycdgncCXlylu",
     "type": "MD",
     "hide_input_from_viewers": true,
     "hide_output_from_viewers": true
    },
    "pycharm": {
     "name": "#%% md\n"
    }
   }
  },
  {
   "cell_type": "code",
   "source": [],
   "execution_count": null,
   "outputs": [],
   "metadata": {
    "datalore": {
     "node_id": "2Rgv1w7SBqPG7E2QAgs2Rj",
     "type": "CODE",
     "hide_input_from_viewers": true,
     "hide_output_from_viewers": true
    },
    "pycharm": {
     "name": "#%%\n"
    }
   }
  },
  {
   "cell_type": "markdown",
   "source": [
    "*****************************"
   ],
   "attachments": {},
   "metadata": {
    "datalore": {
     "node_id": "ntnNlsfxe05IFStopUSq4e",
     "type": "MD",
     "hide_input_from_viewers": true,
     "hide_output_from_viewers": true
    },
    "pycharm": {
     "name": "#%% md\n"
    }
   }
  },
  {
   "cell_type": "markdown",
   "source": [
    "### b) Main (50 pt)\n",
    "\n",
    "<p style=\"font-size: 17px\">\n",
    "Define 2 models, as requested. Train and eval them.\n",
    "<ul style=\"font-size: 17px\">\n",
    "<li> Plot the gated model's accuracy and loss (both on train and test sets) as a function of the epochs.\n",
    "<li> Plot a confusion matrix\n",
    "</ul>\n",
    "\n",
    "</p>"
   ],
   "attachments": {},
   "metadata": {
    "datalore": {
     "node_id": "CPXtuFX9dxqZ0MrWHrNZYK",
     "type": "MD",
     "hide_input_from_viewers": true,
     "hide_output_from_viewers": true
    },
    "pycharm": {
     "name": "#%% md\n"
    }
   }
  },
  {
   "cell_type": "code",
   "source": [],
   "execution_count": null,
   "outputs": [],
   "metadata": {
    "datalore": {
     "node_id": "ZR9c4KmYbpjADwkGm7ZoJS",
     "type": "CODE",
     "hide_input_from_viewers": true,
     "hide_output_from_viewers": true
    },
    "pycharm": {
     "name": "#%%\n"
    }
   }
  },
  {
   "cell_type": "markdown",
   "source": [
    "*****************************"
   ],
   "attachments": {},
   "metadata": {
    "datalore": {
     "node_id": "RBvpUgtaVJiZe2WuL51G4n",
     "type": "MD",
     "hide_input_from_viewers": true,
     "hide_output_from_viewers": true
    },
    "pycharm": {
     "name": "#%% md\n"
    }
   }
  },
  {
   "cell_type": "markdown",
   "source": [
    "### c) Discussion (10 pt)\n",
    "<p style=\"font-size: 17px\">\n",
    "Discuss the differences in the methods you have tried. \n",
    "</p>"
   ],
   "attachments": {},
   "metadata": {
    "datalore": {
     "node_id": "8gf1cw2XMmeQv2sDAJDpSl",
     "type": "MD",
     "hide_input_from_viewers": true,
     "hide_output_from_viewers": true
    },
    "pycharm": {
     "name": "#%% md\n"
    }
   }
  },
  {
   "cell_type": "markdown",
   "source": [
    "*****************************"
   ],
   "attachments": {},
   "metadata": {
    "datalore": {
     "node_id": "46SLBMlsDzgpwUxwQKiN1h",
     "type": "MD",
     "hide_input_from_viewers": true,
     "hide_output_from_viewers": true
    },
    "pycharm": {
     "name": "#%% md\n"
    }
   }
  }
 ],
 "metadata": {
  "kernelspec": {
   "display_name": "Python",
   "language": "python",
   "name": "python"
  },
  "datalore": {
   "computation_mode": "JUPYTER",
   "package_manager": "pip",
   "base_environment": "default",
   "packages": [],
   "report_row_ids": [],
   "version": 3
  }
 },
 "nbformat": 4,
 "nbformat_minor": 4
}